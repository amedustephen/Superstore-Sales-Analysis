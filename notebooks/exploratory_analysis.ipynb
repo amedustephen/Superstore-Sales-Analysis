{
 "cells": [
  {
   "cell_type": "markdown",
   "id": "daa240f7",
   "metadata": {},
   "source": [
    "# SuperStore Sales Exploratory Data Analysis with Python"
   ]
  },
  {
   "cell_type": "markdown",
   "id": "90c8ad95",
   "metadata": {},
   "source": [
    "## Scenario\n",
    "\n",
    "Super Store is a family-owned retail business specializing in office supplies, furniture, and technology products. Operated by two owners, the business has experienced moderate growth but faces challenges in understanding its sales performance and customer behavior. The owners lack the technical expertise to interpret raw data or complex charts but are keen to explore how data analytics can optimize their operations.\n",
    "\n",
    "The primary problem is the absence of an accessible, data-driven approach to decision-making. This gap leads to inefficiencies in inventory management, ineffective discounting strategies, and missed opportunities to cater to high-value customers. Without clear insights, the business struggles to maximize profit and customer loyalty in an increasingly competitive market.\n",
    "\n",
    "\n",
    "## Purpose\n",
    "\n",
    "The goal of this project is to provide actionable insights into the Super Store’s sales data through exploratory data analysis (EDA) and visualizations.\n",
    "\n",
    "### Objectives:\n",
    "\n",
    "The owners want to understand:\n",
    "\n",
    "1. **Top-performing Product Categories:** They want to know which products drive the most revenue and profit to help them focus on items with the highest return.\n",
    "\n",
    "2. **Sales and Profit by Region:** Understanding regional performance will help them decide where to focus marketing and sales efforts.\n",
    "\n",
    "3. **Customer Segmentation Analysis:** They would like to know who their most valuable customers are and whether certain customer segments are more profitable than others.\n",
    "\n",
    "4. **Seasonal Sales Trends:** Identifying peak times for certain products could help them manage inventory and anticipate demand.\n",
    "\n",
    "5. **Discount Analysis:** The owners offer discounts regularly but are uncertain if discounts are helping or hurting profit. They want to know if there's an optimal discount rate that increases sales without eroding profit.\n",
    "\n",
    "\n",
    "## Data Sources\n",
    "\n",
    "The primary data source for this project is the **superstore.xls**, which contains the following fields:\n",
    "\n",
    "- Order ID, Order Date, Ship Date, Ship Mode\n",
    "- Customer ID, Customer Name, Segment\n",
    "- Country, City, State, Postal Code, Region\n",
    "- Product ID, Category, Sub-Category, Product Name\n",
    "- Sale\n",
    "- Discount\n",
    "- Quantity\n",
    "- Profit\n",
    "\n",
    "\n",
    "## Deliverables\n",
    "\n",
    "1. **EDA Report:** A concise PDF report summarizing key insights from the analysis with accompanying visualizations.\n",
    "2. **Interactive Dashboard:** Hosted on a free platform like Streamlit Sharing for online access.\n",
    "3. **User Training Documentation:** A step-by-step guide for using the dashboard.\n"
   ]
  },
  {
   "cell_type": "markdown",
   "id": "bf2a22c7",
   "metadata": {},
   "source": [
    "## Installing and Loading Packages"
   ]
  },
  {
   "cell_type": "markdown",
   "id": "e330c5ce",
   "metadata": {},
   "source": [
    "## Prerequisites\n",
    "\n",
    "- conda install anaconda::tabulate\n",
    "- conda install conda-forge::plotly"
   ]
  },
  {
   "cell_type": "code",
   "execution_count": 1,
   "id": "fe46a8c7",
   "metadata": {},
   "outputs": [],
   "source": [
    "# To update a package, run the following command in the terminal or command prompt:\n",
    "# pip install -U package_name\n",
    "\n",
    "# To install an exact version of a package, run the following command in the terminal or command prompt:\n",
    "# !pip install package_name==desired_version\n",
    "\n",
    "# After installing or updating the package, restart the Jupyter notebook.\n",
    "\n",
    "#1. Install the `watermark` package.\n",
    "#1.a. This package is used to record the versions of other packages used in this Jupyter notebook.\n",
    "!pip install -q -U watermark"
   ]
  },
  {
   "cell_type": "code",
   "execution_count": 2,
   "id": "88f70f8a",
   "metadata": {},
   "outputs": [],
   "source": [
    "# Import the warnings\n",
    "\n",
    "import warnings\n",
    "warnings.filterwarnings(\"ignore\")"
   ]
  },
  {
   "cell_type": "code",
   "execution_count": 3,
   "id": "0ba58c35",
   "metadata": {},
   "outputs": [],
   "source": [
    "# Import the useful libraries.\n",
    "\n",
    "import os\n",
    "import pandas as pd\n",
    "import numpy as np\n",
    "import matplotlib.pyplot as plt\n",
    "%matplotlib inline\n",
    "import seaborn as sns"
   ]
  },
  {
   "cell_type": "code",
   "execution_count": 4,
   "id": "4f6b0e6f",
   "metadata": {},
   "outputs": [],
   "source": [
    "# Showing all the columns available in dataset\n",
    "\n",
    "pd.set_option('display.max_columns',250) # Showing all the columns available in dataset\n",
    "pd.set_option('display.max_rows',300) # To display all the rows\n",
    "pd.set_option('display.width',1000)\n",
    "pd.set_option('display.float_format',  '{:,.4f}'.format) "
   ]
  },
  {
   "cell_type": "code",
   "execution_count": 5,
   "id": "b8017e62",
   "metadata": {},
   "outputs": [
    {
     "name": "stdout",
     "output_type": "stream",
     "text": [
      "Author: AmeduStephen\n",
      "\n"
     ]
    }
   ],
   "source": [
    "%reload_ext watermark\n",
    "%watermark -a \"AmeduStephen\""
   ]
  },
  {
   "cell_type": "markdown",
   "id": "3f07d107",
   "metadata": {},
   "source": [
    "## Data Acquisition"
   ]
  },
  {
   "cell_type": "code",
   "execution_count": 6,
   "id": "53ad0d7f",
   "metadata": {},
   "outputs": [],
   "source": [
    "# Get the directory of the script's location, assumed here to be '../notebooks' and to be on the same folder level with '../data'\n",
    "script_dir = os.getcwd()\n",
    "# Please note that os.getcwd() depends on the current working directory, which might not always align with the script's location  \n",
    "\n",
    "# Navigate to the parent folder\n",
    "parent_dir = os.path.abspath(os.path.join(script_dir, \"..\"))\n",
    "\n",
    "# Construct the path to the Excel file in the desired relative location\n",
    "raw_data_path = os.path.join(parent_dir, \"data\", \"raw\", \"superstore.xls\")\n",
    "\n",
    "# Read the Excel file into a DataFrame\n",
    "df = pd.read_excel(raw_data_path, sheet_name=\"Orders\", index_col=\"Row ID\")"
   ]
  },
  {
   "cell_type": "markdown",
   "id": "1e650b75",
   "metadata": {},
   "source": [
    "## Data Profiling\n",
    "\n",
    "In this section, we will try to find information about the data types used, look at the datasets for inconsistent data formats, and identify missing values and duplications"
   ]
  },
  {
   "cell_type": "code",
   "execution_count": null,
   "id": "b85d04b3",
   "metadata": {},
   "outputs": [],
   "source": []
  },
  {
   "cell_type": "code",
   "execution_count": null,
   "id": "3d9bb2b8",
   "metadata": {},
   "outputs": [],
   "source": []
  },
  {
   "cell_type": "code",
   "execution_count": null,
   "id": "18ef4307",
   "metadata": {},
   "outputs": [],
   "source": []
  },
  {
   "cell_type": "code",
   "execution_count": null,
   "id": "bec0a973",
   "metadata": {},
   "outputs": [],
   "source": []
  },
  {
   "cell_type": "code",
   "execution_count": null,
   "id": "bb5af4d4",
   "metadata": {},
   "outputs": [],
   "source": []
  },
  {
   "cell_type": "markdown",
   "id": "424dd5a3",
   "metadata": {},
   "source": [
    "# The End"
   ]
  }
 ],
 "metadata": {
  "kernelspec": {
   "display_name": "Python 3 (ipykernel)",
   "language": "python",
   "name": "python3"
  },
  "language_info": {
   "codemirror_mode": {
    "name": "ipython",
    "version": 3
   },
   "file_extension": ".py",
   "mimetype": "text/x-python",
   "name": "python",
   "nbconvert_exporter": "python",
   "pygments_lexer": "ipython3",
   "version": "3.9.7"
  }
 },
 "nbformat": 4,
 "nbformat_minor": 5
}
